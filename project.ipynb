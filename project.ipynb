{
 "cells": [
  {
   "cell_type": "markdown",
   "metadata": {},
   "source": [
    "# Выбор локации для скважины"
   ]
  },
  {
   "cell_type": "markdown",
   "metadata": {},
   "source": [
    "Допустим, вы работаете в добывающей компании «ГлавРосГосНефть». Нужно решить, где бурить новую скважину.\n",
    "\n",
    "Вам предоставлены пробы нефти в трёх регионах: в каждом 10 000 месторождений, где измерили качество нефти и объём её запасов. Постройте модель машинного обучения, которая поможет определить регион, где добыча принесёт наибольшую прибыль. Проанализируйте возможную прибыль и риски техникой *Bootstrap.*\n",
    "\n",
    "Шаги для выбора локации:\n",
    "\n",
    "- В избранном регионе ищут месторождения, для каждого определяют значения признаков;\n",
    "- Строят модель и оценивают объём запасов;\n",
    "- Выбирают месторождения с самым высокими оценками значений. Количество месторождений зависит от бюджета компании и стоимости разработки одной скважины;\n",
    "- Прибыль равна суммарной прибыли отобранных месторождений."
   ]
  },
  {
   "cell_type": "markdown",
   "metadata": {},
   "source": [
    "## Загрузка и подготовка данных"
   ]
  },
  {
   "cell_type": "code",
   "execution_count": 9,
   "metadata": {},
   "outputs": [],
   "source": [
    "import pandas as pd\n",
    "import numpy as np\n",
    "import matplotlib.pyplot as plt\n",
    "\n",
    "from sklearn.model_selection import train_test_split\n",
    "from sklearn.preprocessing import StandardScaler\n",
    "from sklearn.linear_model import LinearRegression\n",
    "\n",
    "from sklearn.metrics import mean_squared_error\n",
    "from sklearn.metrics import r2_score\n",
    "from sklearn.metrics import mean_absolute_error\n",
    "\n",
    "import warnings\n",
    "warnings.filterwarnings('ignore')"
   ]
  },
  {
   "cell_type": "code",
   "execution_count": 2,
   "metadata": {},
   "outputs": [
    {
     "data": {
      "text/html": [
       "<div>\n",
       "<style scoped>\n",
       "    .dataframe tbody tr th:only-of-type {\n",
       "        vertical-align: middle;\n",
       "    }\n",
       "\n",
       "    .dataframe tbody tr th {\n",
       "        vertical-align: top;\n",
       "    }\n",
       "\n",
       "    .dataframe thead th {\n",
       "        text-align: right;\n",
       "    }\n",
       "</style>\n",
       "<table border=\"1\" class=\"dataframe\">\n",
       "  <thead>\n",
       "    <tr style=\"text-align: right;\">\n",
       "      <th></th>\n",
       "      <th>id</th>\n",
       "      <th>f0</th>\n",
       "      <th>f1</th>\n",
       "      <th>f2</th>\n",
       "      <th>product</th>\n",
       "    </tr>\n",
       "  </thead>\n",
       "  <tbody>\n",
       "    <tr>\n",
       "      <th>0</th>\n",
       "      <td>txEyH</td>\n",
       "      <td>0.705745</td>\n",
       "      <td>-0.497823</td>\n",
       "      <td>1.221170</td>\n",
       "      <td>105.280062</td>\n",
       "    </tr>\n",
       "    <tr>\n",
       "      <th>1</th>\n",
       "      <td>2acmU</td>\n",
       "      <td>1.334711</td>\n",
       "      <td>-0.340164</td>\n",
       "      <td>4.365080</td>\n",
       "      <td>73.037750</td>\n",
       "    </tr>\n",
       "    <tr>\n",
       "      <th>2</th>\n",
       "      <td>409Wp</td>\n",
       "      <td>1.022732</td>\n",
       "      <td>0.151990</td>\n",
       "      <td>1.419926</td>\n",
       "      <td>85.265647</td>\n",
       "    </tr>\n",
       "    <tr>\n",
       "      <th>3</th>\n",
       "      <td>iJLyR</td>\n",
       "      <td>-0.032172</td>\n",
       "      <td>0.139033</td>\n",
       "      <td>2.978566</td>\n",
       "      <td>168.620776</td>\n",
       "    </tr>\n",
       "    <tr>\n",
       "      <th>4</th>\n",
       "      <td>Xdl7t</td>\n",
       "      <td>1.988431</td>\n",
       "      <td>0.155413</td>\n",
       "      <td>4.751769</td>\n",
       "      <td>154.036647</td>\n",
       "    </tr>\n",
       "  </tbody>\n",
       "</table>\n",
       "</div>"
      ],
      "text/plain": [
       "      id        f0        f1        f2     product\n",
       "0  txEyH  0.705745 -0.497823  1.221170  105.280062\n",
       "1  2acmU  1.334711 -0.340164  4.365080   73.037750\n",
       "2  409Wp  1.022732  0.151990  1.419926   85.265647\n",
       "3  iJLyR -0.032172  0.139033  2.978566  168.620776\n",
       "4  Xdl7t  1.988431  0.155413  4.751769  154.036647"
      ]
     },
     "metadata": {},
     "output_type": "display_data"
    },
    {
     "data": {
      "text/html": [
       "<div>\n",
       "<style scoped>\n",
       "    .dataframe tbody tr th:only-of-type {\n",
       "        vertical-align: middle;\n",
       "    }\n",
       "\n",
       "    .dataframe tbody tr th {\n",
       "        vertical-align: top;\n",
       "    }\n",
       "\n",
       "    .dataframe thead th {\n",
       "        text-align: right;\n",
       "    }\n",
       "</style>\n",
       "<table border=\"1\" class=\"dataframe\">\n",
       "  <thead>\n",
       "    <tr style=\"text-align: right;\">\n",
       "      <th></th>\n",
       "      <th>id</th>\n",
       "      <th>f0</th>\n",
       "      <th>f1</th>\n",
       "      <th>f2</th>\n",
       "      <th>product</th>\n",
       "    </tr>\n",
       "  </thead>\n",
       "  <tbody>\n",
       "    <tr>\n",
       "      <th>0</th>\n",
       "      <td>kBEdx</td>\n",
       "      <td>-15.001348</td>\n",
       "      <td>-8.276000</td>\n",
       "      <td>-0.005876</td>\n",
       "      <td>3.179103</td>\n",
       "    </tr>\n",
       "    <tr>\n",
       "      <th>1</th>\n",
       "      <td>62mP7</td>\n",
       "      <td>14.272088</td>\n",
       "      <td>-3.475083</td>\n",
       "      <td>0.999183</td>\n",
       "      <td>26.953261</td>\n",
       "    </tr>\n",
       "    <tr>\n",
       "      <th>2</th>\n",
       "      <td>vyE1P</td>\n",
       "      <td>6.263187</td>\n",
       "      <td>-5.948386</td>\n",
       "      <td>5.001160</td>\n",
       "      <td>134.766305</td>\n",
       "    </tr>\n",
       "    <tr>\n",
       "      <th>3</th>\n",
       "      <td>KcrkZ</td>\n",
       "      <td>-13.081196</td>\n",
       "      <td>-11.506057</td>\n",
       "      <td>4.999415</td>\n",
       "      <td>137.945408</td>\n",
       "    </tr>\n",
       "    <tr>\n",
       "      <th>4</th>\n",
       "      <td>AHL4O</td>\n",
       "      <td>12.702195</td>\n",
       "      <td>-8.147433</td>\n",
       "      <td>5.004363</td>\n",
       "      <td>134.766305</td>\n",
       "    </tr>\n",
       "  </tbody>\n",
       "</table>\n",
       "</div>"
      ],
      "text/plain": [
       "      id         f0         f1        f2     product\n",
       "0  kBEdx -15.001348  -8.276000 -0.005876    3.179103\n",
       "1  62mP7  14.272088  -3.475083  0.999183   26.953261\n",
       "2  vyE1P   6.263187  -5.948386  5.001160  134.766305\n",
       "3  KcrkZ -13.081196 -11.506057  4.999415  137.945408\n",
       "4  AHL4O  12.702195  -8.147433  5.004363  134.766305"
      ]
     },
     "metadata": {},
     "output_type": "display_data"
    },
    {
     "data": {
      "text/html": [
       "<div>\n",
       "<style scoped>\n",
       "    .dataframe tbody tr th:only-of-type {\n",
       "        vertical-align: middle;\n",
       "    }\n",
       "\n",
       "    .dataframe tbody tr th {\n",
       "        vertical-align: top;\n",
       "    }\n",
       "\n",
       "    .dataframe thead th {\n",
       "        text-align: right;\n",
       "    }\n",
       "</style>\n",
       "<table border=\"1\" class=\"dataframe\">\n",
       "  <thead>\n",
       "    <tr style=\"text-align: right;\">\n",
       "      <th></th>\n",
       "      <th>id</th>\n",
       "      <th>f0</th>\n",
       "      <th>f1</th>\n",
       "      <th>f2</th>\n",
       "      <th>product</th>\n",
       "    </tr>\n",
       "  </thead>\n",
       "  <tbody>\n",
       "    <tr>\n",
       "      <th>0</th>\n",
       "      <td>fwXo0</td>\n",
       "      <td>-1.146987</td>\n",
       "      <td>0.963328</td>\n",
       "      <td>-0.828965</td>\n",
       "      <td>27.758673</td>\n",
       "    </tr>\n",
       "    <tr>\n",
       "      <th>1</th>\n",
       "      <td>WJtFt</td>\n",
       "      <td>0.262778</td>\n",
       "      <td>0.269839</td>\n",
       "      <td>-2.530187</td>\n",
       "      <td>56.069697</td>\n",
       "    </tr>\n",
       "    <tr>\n",
       "      <th>2</th>\n",
       "      <td>ovLUW</td>\n",
       "      <td>0.194587</td>\n",
       "      <td>0.289035</td>\n",
       "      <td>-5.586433</td>\n",
       "      <td>62.871910</td>\n",
       "    </tr>\n",
       "    <tr>\n",
       "      <th>3</th>\n",
       "      <td>q6cA6</td>\n",
       "      <td>2.236060</td>\n",
       "      <td>-0.553760</td>\n",
       "      <td>0.930038</td>\n",
       "      <td>114.572842</td>\n",
       "    </tr>\n",
       "    <tr>\n",
       "      <th>4</th>\n",
       "      <td>WPMUX</td>\n",
       "      <td>-0.515993</td>\n",
       "      <td>1.716266</td>\n",
       "      <td>5.899011</td>\n",
       "      <td>149.600746</td>\n",
       "    </tr>\n",
       "  </tbody>\n",
       "</table>\n",
       "</div>"
      ],
      "text/plain": [
       "      id        f0        f1        f2     product\n",
       "0  fwXo0 -1.146987  0.963328 -0.828965   27.758673\n",
       "1  WJtFt  0.262778  0.269839 -2.530187   56.069697\n",
       "2  ovLUW  0.194587  0.289035 -5.586433   62.871910\n",
       "3  q6cA6  2.236060 -0.553760  0.930038  114.572842\n",
       "4  WPMUX -0.515993  1.716266  5.899011  149.600746"
      ]
     },
     "metadata": {},
     "output_type": "display_data"
    }
   ],
   "source": [
    "data_1 = pd.read_csv('/datasets/geo_data_0.csv')\n",
    "data_2 = pd.read_csv('/datasets/geo_data_1.csv')\n",
    "data_3 = pd.read_csv('/datasets/geo_data_2.csv')\n",
    "\n",
    "display(data_1.head())\n",
    "display(data_2.head())\n",
    "display(data_3.head())"
   ]
  },
  {
   "cell_type": "markdown",
   "metadata": {},
   "source": [
    "Проверим на тип данных и наличие пропусков"
   ]
  },
  {
   "cell_type": "code",
   "execution_count": 3,
   "metadata": {},
   "outputs": [
    {
     "name": "stdout",
     "output_type": "stream",
     "text": [
      "<class 'pandas.core.frame.DataFrame'>\n",
      "RangeIndex: 100000 entries, 0 to 99999\n",
      "Data columns (total 5 columns):\n",
      " #   Column   Non-Null Count   Dtype  \n",
      "---  ------   --------------   -----  \n",
      " 0   id       100000 non-null  object \n",
      " 1   f0       100000 non-null  float64\n",
      " 2   f1       100000 non-null  float64\n",
      " 3   f2       100000 non-null  float64\n",
      " 4   product  100000 non-null  float64\n",
      "dtypes: float64(4), object(1)\n",
      "memory usage: 3.8+ MB\n"
     ]
    },
    {
     "data": {
      "text/plain": [
       "None"
      ]
     },
     "metadata": {},
     "output_type": "display_data"
    },
    {
     "name": "stdout",
     "output_type": "stream",
     "text": [
      "<class 'pandas.core.frame.DataFrame'>\n",
      "RangeIndex: 100000 entries, 0 to 99999\n",
      "Data columns (total 5 columns):\n",
      " #   Column   Non-Null Count   Dtype  \n",
      "---  ------   --------------   -----  \n",
      " 0   id       100000 non-null  object \n",
      " 1   f0       100000 non-null  float64\n",
      " 2   f1       100000 non-null  float64\n",
      " 3   f2       100000 non-null  float64\n",
      " 4   product  100000 non-null  float64\n",
      "dtypes: float64(4), object(1)\n",
      "memory usage: 3.8+ MB\n"
     ]
    },
    {
     "data": {
      "text/plain": [
       "None"
      ]
     },
     "metadata": {},
     "output_type": "display_data"
    },
    {
     "name": "stdout",
     "output_type": "stream",
     "text": [
      "<class 'pandas.core.frame.DataFrame'>\n",
      "RangeIndex: 100000 entries, 0 to 99999\n",
      "Data columns (total 5 columns):\n",
      " #   Column   Non-Null Count   Dtype  \n",
      "---  ------   --------------   -----  \n",
      " 0   id       100000 non-null  object \n",
      " 1   f0       100000 non-null  float64\n",
      " 2   f1       100000 non-null  float64\n",
      " 3   f2       100000 non-null  float64\n",
      " 4   product  100000 non-null  float64\n",
      "dtypes: float64(4), object(1)\n",
      "memory usage: 3.8+ MB\n"
     ]
    },
    {
     "data": {
      "text/plain": [
       "None"
      ]
     },
     "metadata": {},
     "output_type": "display_data"
    }
   ],
   "source": [
    "display(data_1.info())\n",
    "display(data_2.info())\n",
    "display(data_3.info())"
   ]
  },
  {
   "cell_type": "markdown",
   "metadata": {},
   "source": [
    "Как мы видим, наименование одно, а значения абсолютно разные. Из обучения исключим id, т.к. не несет никакой значимости. "
   ]
  },
  {
   "cell_type": "code",
   "execution_count": 4,
   "metadata": {},
   "outputs": [
    {
     "data": {
      "text/html": [
       "<div>\n",
       "<style scoped>\n",
       "    .dataframe tbody tr th:only-of-type {\n",
       "        vertical-align: middle;\n",
       "    }\n",
       "\n",
       "    .dataframe tbody tr th {\n",
       "        vertical-align: top;\n",
       "    }\n",
       "\n",
       "    .dataframe thead th {\n",
       "        text-align: right;\n",
       "    }\n",
       "</style>\n",
       "<table border=\"1\" class=\"dataframe\">\n",
       "  <thead>\n",
       "    <tr style=\"text-align: right;\">\n",
       "      <th></th>\n",
       "      <th>f0</th>\n",
       "      <th>f1</th>\n",
       "      <th>f2</th>\n",
       "      <th>product</th>\n",
       "    </tr>\n",
       "  </thead>\n",
       "  <tbody>\n",
       "    <tr>\n",
       "      <th>count</th>\n",
       "      <td>100000.000000</td>\n",
       "      <td>100000.000000</td>\n",
       "      <td>100000.000000</td>\n",
       "      <td>100000.000000</td>\n",
       "    </tr>\n",
       "    <tr>\n",
       "      <th>mean</th>\n",
       "      <td>0.500419</td>\n",
       "      <td>0.250143</td>\n",
       "      <td>2.502647</td>\n",
       "      <td>92.500000</td>\n",
       "    </tr>\n",
       "    <tr>\n",
       "      <th>std</th>\n",
       "      <td>0.871832</td>\n",
       "      <td>0.504433</td>\n",
       "      <td>3.248248</td>\n",
       "      <td>44.288691</td>\n",
       "    </tr>\n",
       "    <tr>\n",
       "      <th>min</th>\n",
       "      <td>-1.408605</td>\n",
       "      <td>-0.848218</td>\n",
       "      <td>-12.088328</td>\n",
       "      <td>0.000000</td>\n",
       "    </tr>\n",
       "    <tr>\n",
       "      <th>25%</th>\n",
       "      <td>-0.072580</td>\n",
       "      <td>-0.200881</td>\n",
       "      <td>0.287748</td>\n",
       "      <td>56.497507</td>\n",
       "    </tr>\n",
       "    <tr>\n",
       "      <th>50%</th>\n",
       "      <td>0.502360</td>\n",
       "      <td>0.250252</td>\n",
       "      <td>2.515969</td>\n",
       "      <td>91.849972</td>\n",
       "    </tr>\n",
       "    <tr>\n",
       "      <th>75%</th>\n",
       "      <td>1.073581</td>\n",
       "      <td>0.700646</td>\n",
       "      <td>4.715088</td>\n",
       "      <td>128.564089</td>\n",
       "    </tr>\n",
       "    <tr>\n",
       "      <th>max</th>\n",
       "      <td>2.362331</td>\n",
       "      <td>1.343769</td>\n",
       "      <td>16.003790</td>\n",
       "      <td>185.364347</td>\n",
       "    </tr>\n",
       "  </tbody>\n",
       "</table>\n",
       "</div>"
      ],
      "text/plain": [
       "                  f0             f1             f2        product\n",
       "count  100000.000000  100000.000000  100000.000000  100000.000000\n",
       "mean        0.500419       0.250143       2.502647      92.500000\n",
       "std         0.871832       0.504433       3.248248      44.288691\n",
       "min        -1.408605      -0.848218     -12.088328       0.000000\n",
       "25%        -0.072580      -0.200881       0.287748      56.497507\n",
       "50%         0.502360       0.250252       2.515969      91.849972\n",
       "75%         1.073581       0.700646       4.715088     128.564089\n",
       "max         2.362331       1.343769      16.003790     185.364347"
      ]
     },
     "metadata": {},
     "output_type": "display_data"
    },
    {
     "data": {
      "text/html": [
       "<div>\n",
       "<style scoped>\n",
       "    .dataframe tbody tr th:only-of-type {\n",
       "        vertical-align: middle;\n",
       "    }\n",
       "\n",
       "    .dataframe tbody tr th {\n",
       "        vertical-align: top;\n",
       "    }\n",
       "\n",
       "    .dataframe thead th {\n",
       "        text-align: right;\n",
       "    }\n",
       "</style>\n",
       "<table border=\"1\" class=\"dataframe\">\n",
       "  <thead>\n",
       "    <tr style=\"text-align: right;\">\n",
       "      <th></th>\n",
       "      <th>f0</th>\n",
       "      <th>f1</th>\n",
       "      <th>f2</th>\n",
       "      <th>product</th>\n",
       "    </tr>\n",
       "  </thead>\n",
       "  <tbody>\n",
       "    <tr>\n",
       "      <th>count</th>\n",
       "      <td>100000.000000</td>\n",
       "      <td>100000.000000</td>\n",
       "      <td>100000.000000</td>\n",
       "      <td>100000.000000</td>\n",
       "    </tr>\n",
       "    <tr>\n",
       "      <th>mean</th>\n",
       "      <td>1.141296</td>\n",
       "      <td>-4.796579</td>\n",
       "      <td>2.494541</td>\n",
       "      <td>68.825000</td>\n",
       "    </tr>\n",
       "    <tr>\n",
       "      <th>std</th>\n",
       "      <td>8.965932</td>\n",
       "      <td>5.119872</td>\n",
       "      <td>1.703572</td>\n",
       "      <td>45.944423</td>\n",
       "    </tr>\n",
       "    <tr>\n",
       "      <th>min</th>\n",
       "      <td>-31.609576</td>\n",
       "      <td>-26.358598</td>\n",
       "      <td>-0.018144</td>\n",
       "      <td>0.000000</td>\n",
       "    </tr>\n",
       "    <tr>\n",
       "      <th>25%</th>\n",
       "      <td>-6.298551</td>\n",
       "      <td>-8.267985</td>\n",
       "      <td>1.000021</td>\n",
       "      <td>26.953261</td>\n",
       "    </tr>\n",
       "    <tr>\n",
       "      <th>50%</th>\n",
       "      <td>1.153055</td>\n",
       "      <td>-4.813172</td>\n",
       "      <td>2.011479</td>\n",
       "      <td>57.085625</td>\n",
       "    </tr>\n",
       "    <tr>\n",
       "      <th>75%</th>\n",
       "      <td>8.621015</td>\n",
       "      <td>-1.332816</td>\n",
       "      <td>3.999904</td>\n",
       "      <td>107.813044</td>\n",
       "    </tr>\n",
       "    <tr>\n",
       "      <th>max</th>\n",
       "      <td>29.421755</td>\n",
       "      <td>18.734063</td>\n",
       "      <td>5.019721</td>\n",
       "      <td>137.945408</td>\n",
       "    </tr>\n",
       "  </tbody>\n",
       "</table>\n",
       "</div>"
      ],
      "text/plain": [
       "                  f0             f1             f2        product\n",
       "count  100000.000000  100000.000000  100000.000000  100000.000000\n",
       "mean        1.141296      -4.796579       2.494541      68.825000\n",
       "std         8.965932       5.119872       1.703572      45.944423\n",
       "min       -31.609576     -26.358598      -0.018144       0.000000\n",
       "25%        -6.298551      -8.267985       1.000021      26.953261\n",
       "50%         1.153055      -4.813172       2.011479      57.085625\n",
       "75%         8.621015      -1.332816       3.999904     107.813044\n",
       "max        29.421755      18.734063       5.019721     137.945408"
      ]
     },
     "metadata": {},
     "output_type": "display_data"
    },
    {
     "data": {
      "text/html": [
       "<div>\n",
       "<style scoped>\n",
       "    .dataframe tbody tr th:only-of-type {\n",
       "        vertical-align: middle;\n",
       "    }\n",
       "\n",
       "    .dataframe tbody tr th {\n",
       "        vertical-align: top;\n",
       "    }\n",
       "\n",
       "    .dataframe thead th {\n",
       "        text-align: right;\n",
       "    }\n",
       "</style>\n",
       "<table border=\"1\" class=\"dataframe\">\n",
       "  <thead>\n",
       "    <tr style=\"text-align: right;\">\n",
       "      <th></th>\n",
       "      <th>f0</th>\n",
       "      <th>f1</th>\n",
       "      <th>f2</th>\n",
       "      <th>product</th>\n",
       "    </tr>\n",
       "  </thead>\n",
       "  <tbody>\n",
       "    <tr>\n",
       "      <th>count</th>\n",
       "      <td>100000.000000</td>\n",
       "      <td>100000.000000</td>\n",
       "      <td>100000.000000</td>\n",
       "      <td>100000.000000</td>\n",
       "    </tr>\n",
       "    <tr>\n",
       "      <th>mean</th>\n",
       "      <td>0.002023</td>\n",
       "      <td>-0.002081</td>\n",
       "      <td>2.495128</td>\n",
       "      <td>95.000000</td>\n",
       "    </tr>\n",
       "    <tr>\n",
       "      <th>std</th>\n",
       "      <td>1.732045</td>\n",
       "      <td>1.730417</td>\n",
       "      <td>3.473445</td>\n",
       "      <td>44.749921</td>\n",
       "    </tr>\n",
       "    <tr>\n",
       "      <th>min</th>\n",
       "      <td>-8.760004</td>\n",
       "      <td>-7.084020</td>\n",
       "      <td>-11.970335</td>\n",
       "      <td>0.000000</td>\n",
       "    </tr>\n",
       "    <tr>\n",
       "      <th>25%</th>\n",
       "      <td>-1.162288</td>\n",
       "      <td>-1.174820</td>\n",
       "      <td>0.130359</td>\n",
       "      <td>59.450441</td>\n",
       "    </tr>\n",
       "    <tr>\n",
       "      <th>50%</th>\n",
       "      <td>0.009424</td>\n",
       "      <td>-0.009482</td>\n",
       "      <td>2.484236</td>\n",
       "      <td>94.925613</td>\n",
       "    </tr>\n",
       "    <tr>\n",
       "      <th>75%</th>\n",
       "      <td>1.158535</td>\n",
       "      <td>1.163678</td>\n",
       "      <td>4.858794</td>\n",
       "      <td>130.595027</td>\n",
       "    </tr>\n",
       "    <tr>\n",
       "      <th>max</th>\n",
       "      <td>7.238262</td>\n",
       "      <td>7.844801</td>\n",
       "      <td>16.739402</td>\n",
       "      <td>190.029838</td>\n",
       "    </tr>\n",
       "  </tbody>\n",
       "</table>\n",
       "</div>"
      ],
      "text/plain": [
       "                  f0             f1             f2        product\n",
       "count  100000.000000  100000.000000  100000.000000  100000.000000\n",
       "mean        0.002023      -0.002081       2.495128      95.000000\n",
       "std         1.732045       1.730417       3.473445      44.749921\n",
       "min        -8.760004      -7.084020     -11.970335       0.000000\n",
       "25%        -1.162288      -1.174820       0.130359      59.450441\n",
       "50%         0.009424      -0.009482       2.484236      94.925613\n",
       "75%         1.158535       1.163678       4.858794     130.595027\n",
       "max         7.238262       7.844801      16.739402     190.029838"
      ]
     },
     "metadata": {},
     "output_type": "display_data"
    }
   ],
   "source": [
    "display(data_1.describe())\n",
    "display(data_2.describe())\n",
    "display(data_3.describe())"
   ]
  },
  {
   "cell_type": "code",
   "execution_count": 5,
   "metadata": {},
   "outputs": [
    {
     "data": {
      "text/plain": [
       "<AxesSubplot:>"
      ]
     },
     "execution_count": 5,
     "metadata": {},
     "output_type": "execute_result"
    },
    {
     "data": {
      "image/png": "[encoded data removed]",
      "text/plain": [
       "<Figure size 432x288 with 1 Axes>"
      ]
     },
     "metadata": {
      "needs_background": "light"
     },
     "output_type": "display_data"
    }
   ],
   "source": [
    "data_1['product'].hist()"
   ]
  },
  {
   "cell_type": "code",
   "execution_count": 6,
   "metadata": {},
   "outputs": [
    {
     "data": {
      "text/plain": [
       "<AxesSubplot:>"
      ]
     },
     "execution_count": 6,
     "metadata": {},
     "output_type": "execute_result"
    },
    {
     "data": {
      "image/png": "[encoded data removed]",
      "text/plain": [
       "<Figure size 432x288 with 1 Axes>"
      ]
     },
     "metadata": {
      "needs_background": "light"
     },
     "output_type": "display_data"
    }
   ],
   "source": [
    "data_2['product'].hist()"
   ]
  },
  {
   "cell_type": "code",
   "execution_count": 7,
   "metadata": {},
   "outputs": [
    {
     "data": {
      "text/plain": [
       "<AxesSubplot:>"
      ]
     },
     "execution_count": 7,
     "metadata": {},
     "output_type": "execute_result"
    },
    {
     "data": {
      "image/png": "[encoded data removed]",
      "text/plain": [
       "<Figure size 432x288 with 1 Axes>"
      ]
     },
     "metadata": {
      "needs_background": "light"
     },
     "output_type": "display_data"
    }
   ],
   "source": [
    "data_3['product'].hist()"
   ]
  },
  {
   "cell_type": "markdown",
   "metadata": {},
   "source": [
    "Объем запасов в скважине измеряется в тысячи баррелей."
   ]
  },
  {
   "cell_type": "markdown",
   "metadata": {},
   "source": [
    "Категориальные признаки отсутствуют, поделим данные на тренировочную и валидационную выборки, сделаем масштабирование данных, для каждого региона по отдельности."
   ]
  },
  {
   "cell_type": "code",
   "execution_count": 10,
   "metadata": {},
   "outputs": [],
   "source": [
    "target = data_1['product']\n",
    "features = data_1.drop(['id','product'], axis=1)\n",
    "features_train, features_valid, target_train, target_valid = train_test_split(\n",
    "    features, target, test_size=0.25, random_state=12345)\n",
    "\n",
    "features_train_1 = features_train.copy()\n",
    "features_valid_1 = features_valid.copy()\n",
    "target_train_1 = target_train.copy()\n",
    "target_valid_1 = target_valid.copy()\n",
    "\n",
    "numeric = ['f0', 'f1', 'f2']\n",
    "\n",
    "scaler = StandardScaler()\n",
    "scaler.fit(features_train_1.loc[:, numeric])\n",
    "features_train_1.loc[:, numeric] = scaler.transform(features_train_1.loc[:, numeric])\n",
    "features_valid_1.loc[:, numeric] = scaler.transform(features_valid_1.loc[:, numeric])"
   ]
  },
  {
   "cell_type": "code",
   "execution_count": 11,
   "metadata": {},
   "outputs": [],
   "source": [
    "target = data_2['product']\n",
    "features = data_2.drop(['id','product'], axis=1)\n",
    "features_train, features_valid, target_train, target_valid = train_test_split(\n",
    "    features, target, test_size=0.25, random_state=12345)\n",
    "\n",
    "features_train_2 = features_train.copy()\n",
    "features_valid_2 = features_valid.copy()\n",
    "target_train_2 = target_train.copy()\n",
    "target_valid_2 = target_valid.copy()\n",
    "\n",
    "numeric = ['f0', 'f1', 'f2']\n",
    "\n",
    "scaler = StandardScaler()\n",
    "scaler.fit(features_train_2.loc[:, numeric])\n",
    "features_train_2.loc[:, numeric] = scaler.transform(features_train_2.loc[:, numeric])\n",
    "features_valid_2.loc[:, numeric] = scaler.transform(features_valid_2.loc[:, numeric])"
   ]
  },
  {
   "cell_type": "code",
   "execution_count": 12,
   "metadata": {},
   "outputs": [],
   "source": [
    "target = data_3['product']\n",
    "features = data_3.drop(['id','product'], axis=1)\n",
    "features_train, features_valid, target_train, target_valid = train_test_split(\n",
    "    features, target, test_size=0.25, random_state=12345)\n",
    "\n",
    "features_train_3 = features_train.copy()\n",
    "features_valid_3 = features_valid.copy()\n",
    "target_train_3 = target_train.copy()\n",
    "target_valid_3 = target_valid.copy()\n",
    "\n",
    "numeric = ['f0', 'f1', 'f2']\n",
    "\n",
    "scaler = StandardScaler()\n",
    "scaler.fit(features_train_3.loc[:, numeric])\n",
    "features_train_3.loc[:, numeric] = scaler.transform(features_train_3.loc[:, numeric])\n",
    "features_valid_3.loc[:, numeric] = scaler.transform(features_valid_3.loc[:, numeric])"
   ]
  },
  {
   "cell_type": "code",
   "execution_count": 20,
   "metadata": {},
   "outputs": [],
   "source": [
    "data_1 = data_1.drop('id', axis=1)\n",
    "data_2 = data_2.drop('id', axis=1)\n",
    "data_3 = data_3.drop('id', axis=1)"
   ]
  },
  {
   "cell_type": "code",
   "execution_count": 21,
   "metadata": {},
   "outputs": [],
   "source": [
    "def show_me_hist(data, i):\n",
    "    data[data.columns.values[i]].hist(bins=50)\n",
    "    plt.xlabel('count')\n",
    "    plt.ylabel('frequency')\n",
    "    plt.title(data.columns.values[i])\n",
    "    plt.show()"
   ]
  },
  {
   "cell_type": "code",
   "execution_count": 22,
   "metadata": {},
   "outputs": [
    {
     "data": {
      "image/png": "[encoded data removed]",
      "text/plain": [
       "<Figure size 432x288 with 1 Axes>"
      ]
     },
     "metadata": {
      "needs_background": "light"
     },
     "output_type": "display_data"
    },
    {
     "data": {
      "image/png": "[encoded data removed]",
      "text/plain": [
       "<Figure size 432x288 with 1 Axes>"
      ]
     },
     "metadata": {
      "needs_background": "light"
     },
     "output_type": "display_data"
    },
    {
     "data": {
      "image/png": "[encoded data removed]",
      "text/plain": [
       "<Figure size 432x288 with 1 Axes>"
      ]
     },
     "metadata": {
      "needs_background": "light"
     },
     "output_type": "display_data"
    }
   ],
   "source": [
    "show_me_hist(data_1, 3)\n",
    "show_me_hist(data_2, 3)\n",
    "show_me_hist(data_3, 3)"
   ]
  },
  {
   "cell_type": "markdown",
   "metadata": {},
   "source": [
    "<b>Выводы</b>\n",
    "\n",
    "- Регион 1 - среднее и медианы равны, распределение нормальное.\n",
    "- Регион 2 - среднее выше, чем медиана, значит больше скважин с большими значениями. Но значения запасов меньше, чем в регионе 1 и 3.\n",
    "- Регион 3 - данные такие же как в регионе 1, но запасов чуть больше."
   ]
  },
  {
   "cell_type": "markdown",
   "metadata": {},
   "source": [
    "Поделим данные на тренировочную и валидационную выборки, сделаем масштабирование данных, для каждого региона по отдельности."
   ]
  },
  {
   "cell_type": "code",
   "execution_count": null,
   "metadata": {},
   "outputs": [],
   "source": [
    "target = data_1['product']\n",
    "features = data_1.drop(['id','product'], axis=1)\n",
    "features_train, features_valid, target_train, target_valid = train_test_split(\n",
    "    features, target, test_size=0.25, random_state=12345)\n",
    "\n",
    "features_train_1 = features_train.copy()\n",
    "features_valid_1 = features_valid.copy()\n",
    "target_train_1 = target_train.copy()\n",
    "target_valid_1 = target_valid.copy()\n",
    "\n",
    "numeric = ['f0', 'f1', 'f2']\n",
    "\n",
    "scaler = StandardScaler()\n",
    "scaler.fit(features_train_1.loc[:, numeric])\n",
    "features_train_1.loc[:, numeric] = scaler.transform(features_train_1.loc[:, numeric])\n",
    "features_valid_1.loc[:, numeric] = scaler.transform(features_valid_1.loc[:, numeric])"
   ]
  },
  {
   "cell_type": "code",
   "execution_count": null,
   "metadata": {},
   "outputs": [],
   "source": []
  },
  {
   "cell_type": "code",
   "execution_count": null,
   "metadata": {},
   "outputs": [],
   "source": []
  },
  {
   "cell_type": "markdown",
   "metadata": {},
   "source": [
    "## Обучение и проверка модели"
   ]
  },
  {
   "cell_type": "code",
   "execution_count": null,
   "metadata": {},
   "outputs": [],
   "source": [
    "rnd = np.random.RandomState(12345)"
   ]
  },
  {
   "cell_type": "markdown",
   "metadata": {},
   "source": [
    "Выделим целевой признак"
   ]
  },
  {
   "cell_type": "code",
   "execution_count": null,
   "metadata": {},
   "outputs": [],
   "source": [
    "x_1 = data_1.drop('product', axis=1)\n",
    "y_1 = data_1['product']\n",
    "x_2 = data_2.drop('product', axis=1)\n",
    "y_2 = data_2['product']\n",
    "x_3 = data_3.drop('product', axis=1)\n",
    "y_3 = data_3['product']"
   ]
  },
  {
   "cell_type": "markdown",
   "metadata": {},
   "source": [
    "Разобьем выборки на тренировочную и валидационную"
   ]
  },
  {
   "cell_type": "code",
   "execution_count": null,
   "metadata": {},
   "outputs": [],
   "source": [
    "x_train_1, x_valid_1, y_train_1, y_valid_1 = train_test_split(x_1, y_1, test_size=0.25, stratify = y_1, random_state=42)\n",
    "x_train_2, x_valid_2, y_train_2, y_valid_2 = train_test_split(x_2, y_2, test_size=0.25, stratify = y_2, random_state=42)\n",
    "x_train_3, x_valid_3, y_train_3, y_valid_3 = train_test_split(x_3, y_3, test_size=0.25, stratify = y_3, random_state=42)"
   ]
  },
  {
   "cell_type": "markdown",
   "metadata": {},
   "source": [
    "Теперь проверим, как разбились выборки"
   ]
  },
  {
   "cell_type": "code",
   "execution_count": null,
   "metadata": {},
   "outputs": [],
   "source": [
    "print(x_train_1.shape, x_valid_1.shape, y_train_1.shape, y_valid_1.shape)"
   ]
  },
  {
   "cell_type": "markdown",
   "metadata": {},
   "source": [
    "Далее обучим линейную регрессию на данных трех регионов"
   ]
  },
  {
   "cell_type": "code",
   "execution_count": null,
   "metadata": {
    "scrolled": true
   },
   "outputs": [],
   "source": [
    "lr_1 = LinearRegression()\n",
    "lr_2 = LinearRegression()\n",
    "lr_3 = LinearRegression()\n",
    "lr_1.fit(x_train_1, y_train_1)\n",
    "lr_2.fit(x_train_2, y_train_2)\n",
    "lr_3.fit(x_train_3, y_train_3)"
   ]
  },
  {
   "cell_type": "code",
   "execution_count": null,
   "metadata": {},
   "outputs": [],
   "source": [
    "pred_1 = lr_1.predict(x_valid_1)\n",
    "pred_2 = lr_2.predict(x_valid_2)\n",
    "pred_3 = lr_3.predict(x_valid_3)"
   ]
  },
  {
   "cell_type": "code",
   "execution_count": null,
   "metadata": {},
   "outputs": [],
   "source": [
    "pred_1 = pd.Series(pred_1)\n",
    "pred_2 = pd.Series(pred_2)\n",
    "pred_3 = pd.Series(pred_3)"
   ]
  },
  {
   "cell_type": "code",
   "execution_count": null,
   "metadata": {},
   "outputs": [],
   "source": [
    "target_1 = y_valid_1.reset_index(drop=True)\n",
    "target_2 = y_valid_2.reset_index(drop=True)\n",
    "target_3 = y_valid_3.reset_index(drop=True)"
   ]
  },
  {
   "cell_type": "markdown",
   "metadata": {},
   "source": [
    "Теперь посмотрим средний запас предсказанного сырья и RMSE для троих моделей"
   ]
  },
  {
   "cell_type": "code",
   "execution_count": null,
   "metadata": {},
   "outputs": [],
   "source": [
    "print('Средний запас предсказанного сырья_1: {:.2f}'.format(pred_1.mean()))\n",
    "print('RMSE модели_1: {:.2f}'.format(mean_squared_error(target_1, pred_1)**0.5))\n",
    "\n",
    "print('Средний запас предсказанного сырья_2: {:.2f}'.format(pred_2.mean()))\n",
    "print('RMSE модели_2: {:.2f}'.format(mean_squared_error(target_2, pred_2)**0.5))\n",
    "\n",
    "print('Средний запас предсказанного сырья_3: {:.2f}'.format(pred_3.mean()))\n",
    "print('RMSE модели_3: {:.2f}'.format(mean_squared_error(target_3, pred_3)**0.5))"
   ]
  },
  {
   "cell_type": "markdown",
   "metadata": {},
   "source": [
    "<b>Выводы</b>\n",
    "\n",
    "- Средний запас предсказанного сырья практически соответствует средним значениям запасов первоначальных данных.\n",
    "- Минимальная метрика RMSE обнаружена в регионе № 2, она равна 0.84, хуже всего предсказывает модель региона № 3, метрика равна 39.88.\n",
    "- Модель № 2, скорее всего, так справилась из-за предварительно сгруппированных данных по запасам (12 подвыборок)."
   ]
  },
  {
   "cell_type": "markdown",
   "metadata": {},
   "source": [
    "## Подготовка к расчёту прибыли"
   ]
  },
  {
   "cell_type": "markdown",
   "metadata": {},
   "source": [
    "Расчитаем минимальный запас в скважине для безубыточной разработки месторождения"
   ]
  },
  {
   "cell_type": "code",
   "execution_count": null,
   "metadata": {
    "scrolled": true
   },
   "outputs": [],
   "source": [
    "budget = 10000000000\n",
    "price = 450000\n",
    "profit = budget / 200 / price\n",
    "billion = 1000000000\n",
    "print('Объём сырья для безубыточной разработки одной скважины: {:.2f} тыс. баррелей'.format(profit))"
   ]
  },
  {
   "cell_type": "code",
   "execution_count": null,
   "metadata": {},
   "outputs": [],
   "source": [
    "print(\"Средний истинный запас сырья в регионах, тыс. баррелей:\")\n",
    "print()\n",
    "count = 0\n",
    "targets = [target_1, target_2, target_3]\n",
    "for target in targets:\n",
    "    count += 1\n",
    "    print('Регион ', count,': ',  target.mean())"
   ]
  },
  {
   "cell_type": "markdown",
   "metadata": {},
   "source": [
    "<b>Выводы</b>\n",
    "\n",
    "- Чтобы получать прибыль, нужно будет выбрать скважины с запасами выше 111.11 тыс.баррелей;\n",
    "- Средние запасы каждого из регионов меньше необходимого запаса для безубыточной разработки, но ср.кв.ошибка говорит о том, что верные ответы целевого признака имеют большие запасы."
   ]
  },
  {
   "cell_type": "markdown",
   "metadata": {},
   "source": [
    "## Расчёт прибыли и рисков "
   ]
  },
  {
   "cell_type": "markdown",
   "metadata": {},
   "source": [
    "Создадим функцию по расчету прибыли при разработки лучших скважин"
   ]
  },
  {
   "cell_type": "code",
   "execution_count": null,
   "metadata": {},
   "outputs": [],
   "source": [
    "def profit(target, predict, count):\n",
    "    predict_sorted = predict.sort_values(ascending=False)\n",
    "    selected = target[predict_sorted.index][:count]\n",
    "    return price * selected.sum() - budget"
   ]
  },
  {
   "cell_type": "code",
   "execution_count": null,
   "metadata": {},
   "outputs": [],
   "source": [
    "print('Прибыль региона № 1 (200 лучших скважин): {} млрд.рублей'.format(profit(target_1, pred_1, 200) / billion))\n",
    "print('Прибыль региона № 2 (200 лучших скважин): {} млрд.рублей'.format(profit(target_2, pred_2, 200) / billion))\n",
    "print('Прибыль региона № 3 (200 лучших скважин): {} млрд.рублей'.format(profit(target_3, pred_3, 200) / billion))"
   ]
  },
  {
   "cell_type": "markdown",
   "metadata": {},
   "source": [
    "Как видим, максимальная прибыль у региона № 1"
   ]
  },
  {
   "cell_type": "markdown",
   "metadata": {},
   "source": [
    "Исходя из условий задачи я исследуем 500 точек, а выберем 200 лучших. Попробуем найти случайные 500 скважин из всей выборки (1000 раз), из них выберем 200 лучших, затем посчитаем среднюю прибыль по всей выборке и по регионам."
   ]
  },
  {
   "cell_type": "code",
   "execution_count": null,
   "metadata": {},
   "outputs": [],
   "source": [
    "def bootstrap (target, predictions):\n",
    "    values = []\n",
    "    for i in range(1000):\n",
    "        target_subsample = target.reset_index(drop=True).sample(n=500, replace=True, random_state=rnd)\n",
    "        pred_subsample = predictions[target_subsample.index]\n",
    "        values.append(profit(target_subsample, pred_subsample, 200))\n",
    "    risk = 0.025\n",
    "    values = pd.Series(values)\n",
    "    lower = values.quantile(risk)\n",
    "    high = values.quantile(0.975)\n",
    "    confidence_interval = (lower, high)\n",
    "    mean = values.mean()\n",
    "\n",
    "    print(\"Средняя прибыль региона: {:.2f} млрд.рублей\".format(mean / billion))\n",
    "    print(\"2,5%-квантиль: {:.2f} млрд.рублей\".format(lower / billion))\n",
    "    print(\"97,5%-квантиль: {:.2f} млрд.рублей\".format(high / billion))\n",
    "    print(\"Доверительный интервал: \", confidence_interval)\n",
    "    print(\"Риск убытка:\", (values < 0).mean())"
   ]
  },
  {
   "cell_type": "code",
   "execution_count": null,
   "metadata": {},
   "outputs": [],
   "source": [
    "bootstrap(target_1, pred_1)"
   ]
  },
  {
   "cell_type": "code",
   "execution_count": null,
   "metadata": {},
   "outputs": [],
   "source": [
    "bootstrap(target_2, pred_2)"
   ]
  },
  {
   "cell_type": "code",
   "execution_count": null,
   "metadata": {},
   "outputs": [],
   "source": [
    "bootstrap(target_3, pred_3)"
   ]
  },
  {
   "cell_type": "markdown",
   "metadata": {},
   "source": [
    "По совокупности критериев - для скважины лучше всех показал регион № 2."
   ]
  },
  {
   "cell_type": "markdown",
   "metadata": {},
   "source": [
    "<b>Выводы</b>\n",
    "\n",
    "- Большое количество скважин с лучшими запасами имеет регион № 1, который показал прибыль 3.4 млрд рублей на лучших предсказанных данных.\n",
    "- Но выбирать регион только по лучшей прибыли некорректно, т.к. надо рассматривать и риски и расходы, особенно, когда на разработку нужно потратить 10 млрд рублей.\n",
    "- Основной критерий - вероятность убытков - 2.5 %. Регион № 2 имеет самую низкую вероятность убытков, всего 0.5%. И более узкий доверительный интервал, и соответственно более высокую среднюю прибыль.\n",
    "- Остальные регионы имеют риск, превышающий основной критерий, поэтому рассмотрены быть не могут, хотя регион № 3 имеет более высокие значения верхней границы доверительного интервала."
   ]
  },
  {
   "cell_type": "markdown",
   "metadata": {},
   "source": [
    "## Чек-лист готовности проекта"
   ]
  },
  {
   "cell_type": "code",
   "execution_count": null,
   "metadata": {},
   "outputs": [],
   "source": []
  }
 ],
 "metadata": {
  "ExecuteTimeLog": [
   {
    "duration": 1606,
    "start_time": "2022-10-18T18:36:51.885Z"
   },
   {
    "duration": 4,
    "start_time": "2022-10-18T18:37:27.753Z"
   },
   {
    "duration": 1725,
    "start_time": "2022-10-18T18:37:46.273Z"
   },
   {
    "duration": 353,
    "start_time": "2022-10-18T18:38:00.254Z"
   },
   {
    "duration": 361,
    "start_time": "2022-10-18T18:39:43.650Z"
   },
   {
    "duration": 37,
    "start_time": "2022-10-18T18:40:22.766Z"
   },
   {
    "duration": 75,
    "start_time": "2022-10-18T18:41:05.647Z"
   },
   {
    "duration": 110,
    "start_time": "2022-10-18T18:41:30.226Z"
   },
   {
    "duration": 71,
    "start_time": "2022-10-18T18:43:12.086Z"
   },
   {
    "duration": 64,
    "start_time": "2022-10-18T18:43:23.834Z"
   },
   {
    "duration": 15,
    "start_time": "2022-10-18T18:43:41.735Z"
   },
   {
    "duration": 13,
    "start_time": "2022-10-18T18:43:52.273Z"
   },
   {
    "duration": 13,
    "start_time": "2022-10-18T18:48:57.337Z"
   },
   {
    "duration": 5,
    "start_time": "2022-10-18T18:49:11.119Z"
   },
   {
    "duration": 5,
    "start_time": "2022-10-18T18:50:12.331Z"
   },
   {
    "duration": 6,
    "start_time": "2022-10-18T18:50:18.403Z"
   },
   {
    "duration": 6,
    "start_time": "2022-10-18T18:51:11.262Z"
   },
   {
    "duration": 11,
    "start_time": "2022-10-18T18:51:15.786Z"
   },
   {
    "duration": 1292,
    "start_time": "2022-10-18T18:51:21.476Z"
   },
   {
    "duration": 354,
    "start_time": "2022-10-18T18:51:22.769Z"
   },
   {
    "duration": 35,
    "start_time": "2022-10-18T18:51:23.125Z"
   },
   {
    "duration": 136,
    "start_time": "2022-10-18T18:51:23.161Z"
   },
   {
    "duration": 60,
    "start_time": "2022-10-18T18:51:23.298Z"
   },
   {
    "duration": 29,
    "start_time": "2022-10-18T18:51:23.360Z"
   },
   {
    "duration": 20,
    "start_time": "2022-10-18T18:51:23.391Z"
   },
   {
    "duration": 9,
    "start_time": "2022-10-18T18:51:23.412Z"
   },
   {
    "duration": 15,
    "start_time": "2022-10-18T18:51:23.422Z"
   },
   {
    "duration": 296,
    "start_time": "2022-10-18T18:51:23.439Z"
   },
   {
    "duration": 7,
    "start_time": "2022-10-18T18:51:45.219Z"
   },
   {
    "duration": 6,
    "start_time": "2022-10-18T18:51:51.197Z"
   },
   {
    "duration": 6,
    "start_time": "2022-10-18T18:51:58.065Z"
   },
   {
    "duration": 5,
    "start_time": "2022-10-18T18:52:10.195Z"
   },
   {
    "duration": 206,
    "start_time": "2022-10-18T18:52:41.630Z"
   },
   {
    "duration": 3,
    "start_time": "2022-10-18T18:53:55.247Z"
   },
   {
    "duration": 602,
    "start_time": "2022-10-18T18:53:55.603Z"
   },
   {
    "duration": 70,
    "start_time": "2022-10-18T18:54:14.528Z"
   },
   {
    "duration": 4,
    "start_time": "2022-10-18T18:56:50.393Z"
   },
   {
    "duration": 65,
    "start_time": "2022-10-18T18:57:51.590Z"
   },
   {
    "duration": 103,
    "start_time": "2022-10-18T18:58:29.783Z"
   },
   {
    "duration": 7,
    "start_time": "2022-10-18T18:58:33.111Z"
   },
   {
    "duration": 197,
    "start_time": "2022-10-18T18:58:34.351Z"
   },
   {
    "duration": 9,
    "start_time": "2022-10-18T18:59:08.014Z"
   },
   {
    "duration": 198,
    "start_time": "2022-10-18T18:59:18.856Z"
   },
   {
    "duration": 3,
    "start_time": "2022-10-18T18:59:20.024Z"
   },
   {
    "duration": 33,
    "start_time": "2022-10-18T19:00:18.366Z"
   },
   {
    "duration": 9,
    "start_time": "2022-10-18T19:01:21.937Z"
   },
   {
    "duration": 9,
    "start_time": "2022-10-18T19:01:24.421Z"
   },
   {
    "duration": 203,
    "start_time": "2022-10-18T19:01:25.289Z"
   },
   {
    "duration": 3,
    "start_time": "2022-10-18T19:01:30.901Z"
   },
   {
    "duration": 32,
    "start_time": "2022-10-18T19:01:37.223Z"
   },
   {
    "duration": 9,
    "start_time": "2022-10-18T19:01:57.325Z"
   },
   {
    "duration": 9,
    "start_time": "2022-10-18T19:02:09.210Z"
   },
   {
    "duration": 3,
    "start_time": "2022-10-18T19:02:09.523Z"
   },
   {
    "duration": 4,
    "start_time": "2022-10-18T19:02:25.252Z"
   },
   {
    "duration": 10,
    "start_time": "2022-10-18T19:03:13.663Z"
   },
   {
    "duration": 127,
    "start_time": "2022-10-18T19:03:30.350Z"
   },
   {
    "duration": 4,
    "start_time": "2022-10-18T19:06:43.489Z"
   },
   {
    "duration": 4,
    "start_time": "2022-10-18T19:06:58.089Z"
   },
   {
    "duration": 4,
    "start_time": "2022-10-18T19:07:01.015Z"
   },
   {
    "duration": 3,
    "start_time": "2022-10-18T19:07:15.282Z"
   },
   {
    "duration": 3,
    "start_time": "2022-10-18T19:07:25.110Z"
   },
   {
    "duration": 4,
    "start_time": "2022-10-18T19:08:00.426Z"
   },
   {
    "duration": 7,
    "start_time": "2022-10-18T19:08:33.161Z"
   },
   {
    "duration": 4,
    "start_time": "2022-10-18T19:09:23.758Z"
   },
   {
    "duration": 6,
    "start_time": "2022-10-18T19:09:24.304Z"
   },
   {
    "duration": 74,
    "start_time": "2022-10-18T19:09:26.338Z"
   },
   {
    "duration": 2,
    "start_time": "2022-10-18T19:11:01.330Z"
   },
   {
    "duration": 3,
    "start_time": "2022-10-18T19:11:33.808Z"
   },
   {
    "duration": 15,
    "start_time": "2022-10-18T19:11:43.917Z"
   },
   {
    "duration": 3,
    "start_time": "2022-10-18T19:11:46.234Z"
   },
   {
    "duration": 16,
    "start_time": "2022-10-18T19:11:46.747Z"
   },
   {
    "duration": 15,
    "start_time": "2022-10-18T19:12:07.528Z"
   },
   {
    "duration": 3,
    "start_time": "2022-10-18T19:12:10.700Z"
   },
   {
    "duration": 6,
    "start_time": "2022-10-18T19:12:11.026Z"
   },
   {
    "duration": 3,
    "start_time": "2022-10-18T19:12:12.527Z"
   },
   {
    "duration": 18,
    "start_time": "2022-10-18T19:12:12.959Z"
   },
   {
    "duration": 75,
    "start_time": "2022-10-18T19:13:59.072Z"
   },
   {
    "duration": 5,
    "start_time": "2022-10-18T19:14:19.509Z"
   },
   {
    "duration": 1465,
    "start_time": "2022-10-18T19:14:27.484Z"
   },
   {
    "duration": 1366,
    "start_time": "2022-10-18T19:14:45.466Z"
   },
   {
    "duration": 1437,
    "start_time": "2022-10-18T19:14:46.833Z"
   },
   {
    "duration": 70,
    "start_time": "2022-10-18T19:15:18.967Z"
   },
   {
    "duration": 77,
    "start_time": "2022-10-18T19:15:40.529Z"
   },
   {
    "duration": 91,
    "start_time": "2022-10-18T20:18:04.407Z"
   },
   {
    "duration": 1514,
    "start_time": "2022-10-19T11:13:05.209Z"
   },
   {
    "duration": 721,
    "start_time": "2022-10-19T11:13:06.727Z"
   },
   {
    "duration": 39,
    "start_time": "2022-10-19T11:13:07.450Z"
   },
   {
    "duration": 145,
    "start_time": "2022-10-19T11:13:07.491Z"
   },
   {
    "duration": 66,
    "start_time": "2022-10-19T11:13:07.637Z"
   },
   {
    "duration": 14,
    "start_time": "2022-10-19T11:13:07.705Z"
   },
   {
    "duration": 18,
    "start_time": "2022-10-19T11:13:07.733Z"
   },
   {
    "duration": 9,
    "start_time": "2022-10-19T11:13:07.752Z"
   },
   {
    "duration": 104,
    "start_time": "2022-10-19T11:13:07.763Z"
   },
   {
    "duration": 3,
    "start_time": "2022-10-19T11:13:07.869Z"
   },
   {
    "duration": 566,
    "start_time": "2022-10-19T11:13:07.874Z"
   },
   {
    "duration": 2,
    "start_time": "2022-10-19T11:13:08.442Z"
   },
   {
    "duration": 14,
    "start_time": "2022-10-19T11:13:08.446Z"
   },
   {
    "duration": 133,
    "start_time": "2022-10-19T11:13:08.461Z"
   },
   {
    "duration": 0,
    "start_time": "2022-10-19T11:13:08.595Z"
   },
   {
    "duration": 0,
    "start_time": "2022-10-19T11:13:08.596Z"
   },
   {
    "duration": 0,
    "start_time": "2022-10-19T11:13:08.597Z"
   },
   {
    "duration": 0,
    "start_time": "2022-10-19T11:13:08.598Z"
   },
   {
    "duration": 0,
    "start_time": "2022-10-19T11:13:08.599Z"
   },
   {
    "duration": 0,
    "start_time": "2022-10-19T11:13:08.600Z"
   },
   {
    "duration": 0,
    "start_time": "2022-10-19T11:13:08.601Z"
   },
   {
    "duration": 0,
    "start_time": "2022-10-19T11:13:08.602Z"
   },
   {
    "duration": 0,
    "start_time": "2022-10-19T11:13:08.603Z"
   },
   {
    "duration": 0,
    "start_time": "2022-10-19T11:13:08.604Z"
   },
   {
    "duration": 0,
    "start_time": "2022-10-19T11:13:08.605Z"
   },
   {
    "duration": 0,
    "start_time": "2022-10-19T11:13:08.606Z"
   },
   {
    "duration": 0,
    "start_time": "2022-10-19T11:13:08.607Z"
   },
   {
    "duration": 0,
    "start_time": "2022-10-19T11:13:08.609Z"
   },
   {
    "duration": 94,
    "start_time": "2022-10-19T11:27:08.168Z"
   },
   {
    "duration": 3,
    "start_time": "2022-10-19T11:27:11.918Z"
   },
   {
    "duration": 4,
    "start_time": "2022-10-19T11:27:44.922Z"
   },
   {
    "duration": 7,
    "start_time": "2022-10-19T11:27:45.760Z"
   },
   {
    "duration": 25,
    "start_time": "2022-10-19T11:27:46.626Z"
   },
   {
    "duration": 1431,
    "start_time": "2022-10-19T11:28:12.904Z"
   },
   {
    "duration": 374,
    "start_time": "2022-10-19T11:28:14.337Z"
   },
   {
    "duration": 42,
    "start_time": "2022-10-19T11:28:14.713Z"
   },
   {
    "duration": 132,
    "start_time": "2022-10-19T11:28:14.757Z"
   },
   {
    "duration": 68,
    "start_time": "2022-10-19T11:28:14.891Z"
   },
   {
    "duration": 14,
    "start_time": "2022-10-19T11:28:14.961Z"
   },
   {
    "duration": 23,
    "start_time": "2022-10-19T11:28:14.976Z"
   },
   {
    "duration": 19,
    "start_time": "2022-10-19T11:28:15.000Z"
   },
   {
    "duration": 115,
    "start_time": "2022-10-19T11:28:15.021Z"
   },
   {
    "duration": 3,
    "start_time": "2022-10-19T11:28:15.140Z"
   },
   {
    "duration": 592,
    "start_time": "2022-10-19T11:28:15.144Z"
   },
   {
    "duration": 3,
    "start_time": "2022-10-19T11:28:15.737Z"
   },
   {
    "duration": 25,
    "start_time": "2022-10-19T11:28:15.741Z"
   },
   {
    "duration": 120,
    "start_time": "2022-10-19T11:28:15.767Z"
   },
   {
    "duration": 0,
    "start_time": "2022-10-19T11:28:15.889Z"
   },
   {
    "duration": 0,
    "start_time": "2022-10-19T11:28:15.890Z"
   },
   {
    "duration": 0,
    "start_time": "2022-10-19T11:28:15.891Z"
   },
   {
    "duration": 0,
    "start_time": "2022-10-19T11:28:15.892Z"
   },
   {
    "duration": 0,
    "start_time": "2022-10-19T11:28:15.893Z"
   },
   {
    "duration": 0,
    "start_time": "2022-10-19T11:28:15.894Z"
   },
   {
    "duration": 0,
    "start_time": "2022-10-19T11:28:15.895Z"
   },
   {
    "duration": 0,
    "start_time": "2022-10-19T11:28:15.896Z"
   },
   {
    "duration": 0,
    "start_time": "2022-10-19T11:28:15.897Z"
   },
   {
    "duration": 0,
    "start_time": "2022-10-19T11:28:15.898Z"
   },
   {
    "duration": 1,
    "start_time": "2022-10-19T11:28:15.899Z"
   },
   {
    "duration": 0,
    "start_time": "2022-10-19T11:28:15.901Z"
   },
   {
    "duration": 0,
    "start_time": "2022-10-19T11:28:15.902Z"
   },
   {
    "duration": 0,
    "start_time": "2022-10-19T11:28:15.903Z"
   },
   {
    "duration": 101,
    "start_time": "2022-10-19T11:36:12.014Z"
   },
   {
    "duration": 18,
    "start_time": "2022-10-19T11:39:10.471Z"
   },
   {
    "duration": 93,
    "start_time": "2022-10-19T11:41:42.493Z"
   },
   {
    "duration": 7,
    "start_time": "2022-10-19T11:41:46.675Z"
   },
   {
    "duration": 156,
    "start_time": "2022-10-19T11:42:00.930Z"
   },
   {
    "duration": 257,
    "start_time": "2022-10-19T11:42:30.990Z"
   },
   {
    "duration": 183,
    "start_time": "2022-10-19T11:42:49.602Z"
   },
   {
    "duration": 133,
    "start_time": "2022-10-19T11:43:07.080Z"
   },
   {
    "duration": 153,
    "start_time": "2022-10-19T11:43:09.618Z"
   },
   {
    "duration": 134,
    "start_time": "2022-10-19T11:43:11.081Z"
   },
   {
    "duration": 16,
    "start_time": "2022-10-19T11:45:28.764Z"
   },
   {
    "duration": 1261,
    "start_time": "2022-10-19T11:45:57.173Z"
   },
   {
    "duration": 377,
    "start_time": "2022-10-19T11:45:58.436Z"
   },
   {
    "duration": 47,
    "start_time": "2022-10-19T11:45:58.814Z"
   },
   {
    "duration": 112,
    "start_time": "2022-10-19T11:45:58.863Z"
   },
   {
    "duration": 163,
    "start_time": "2022-10-19T11:45:58.977Z"
   },
   {
    "duration": 193,
    "start_time": "2022-10-19T11:45:59.142Z"
   },
   {
    "duration": 141,
    "start_time": "2022-10-19T11:45:59.337Z"
   },
   {
    "duration": 120,
    "start_time": "2022-10-19T11:45:59.479Z"
   },
   {
    "duration": 0,
    "start_time": "2022-10-19T11:45:59.601Z"
   },
   {
    "duration": 0,
    "start_time": "2022-10-19T11:45:59.603Z"
   },
   {
    "duration": 0,
    "start_time": "2022-10-19T11:45:59.604Z"
   },
   {
    "duration": 0,
    "start_time": "2022-10-19T11:45:59.605Z"
   },
   {
    "duration": 0,
    "start_time": "2022-10-19T11:45:59.606Z"
   },
   {
    "duration": 0,
    "start_time": "2022-10-19T11:45:59.607Z"
   },
   {
    "duration": 0,
    "start_time": "2022-10-19T11:45:59.608Z"
   },
   {
    "duration": 0,
    "start_time": "2022-10-19T11:45:59.609Z"
   },
   {
    "duration": 0,
    "start_time": "2022-10-19T11:45:59.611Z"
   },
   {
    "duration": 0,
    "start_time": "2022-10-19T11:45:59.611Z"
   },
   {
    "duration": 0,
    "start_time": "2022-10-19T11:45:59.633Z"
   },
   {
    "duration": 0,
    "start_time": "2022-10-19T11:45:59.634Z"
   },
   {
    "duration": 0,
    "start_time": "2022-10-19T11:45:59.635Z"
   },
   {
    "duration": 0,
    "start_time": "2022-10-19T11:45:59.636Z"
   },
   {
    "duration": 0,
    "start_time": "2022-10-19T11:45:59.637Z"
   },
   {
    "duration": 0,
    "start_time": "2022-10-19T11:45:59.638Z"
   },
   {
    "duration": 0,
    "start_time": "2022-10-19T11:45:59.638Z"
   },
   {
    "duration": 0,
    "start_time": "2022-10-19T11:45:59.639Z"
   },
   {
    "duration": 0,
    "start_time": "2022-10-19T11:45:59.641Z"
   },
   {
    "duration": 0,
    "start_time": "2022-10-19T11:45:59.641Z"
   },
   {
    "duration": 3,
    "start_time": "2022-10-19T11:46:50.298Z"
   },
   {
    "duration": 28,
    "start_time": "2022-10-19T11:46:54.735Z"
   },
   {
    "duration": 26,
    "start_time": "2022-10-19T11:47:03.496Z"
   },
   {
    "duration": 30,
    "start_time": "2022-10-19T11:47:09.219Z"
   },
   {
    "duration": 8,
    "start_time": "2022-10-19T11:49:30.690Z"
   },
   {
    "duration": 3,
    "start_time": "2022-10-19T11:49:32.878Z"
   },
   {
    "duration": 12,
    "start_time": "2022-10-19T11:49:33.312Z"
   },
   {
    "duration": 4,
    "start_time": "2022-10-19T11:49:44.149Z"
   },
   {
    "duration": 185,
    "start_time": "2022-10-19T11:49:44.496Z"
   },
   {
    "duration": 4,
    "start_time": "2022-10-19T11:49:59.561Z"
   },
   {
    "duration": 645,
    "start_time": "2022-10-19T11:50:00.636Z"
   },
   {
    "duration": 16,
    "start_time": "2022-10-19T11:51:53.585Z"
   },
   {
    "duration": 4,
    "start_time": "2022-10-19T11:51:53.983Z"
   },
   {
    "duration": 616,
    "start_time": "2022-10-19T11:51:54.416Z"
   }
  ],
  "kernelspec": {
   "display_name": "Python 3 (ipykernel)",
   "language": "python",
   "name": "python3"
  },
  "language_info": {
   "codemirror_mode": {
    "name": "ipython",
    "version": 3
   },
   "file_extension": ".py",
   "mimetype": "text/x-python",
   "name": "python",
   "nbconvert_exporter": "python",
   "pygments_lexer": "ipython3",
   "version": "3.9.5"
  },
  "toc": {
   "base_numbering": 1,
   "nav_menu": {},
   "number_sections": true,
   "sideBar": true,
   "skip_h1_title": true,
   "title_cell": "Table of Contents",
   "title_sidebar": "Contents",
   "toc_cell": false,
   "toc_position": {},
   "toc_section_display": true,
   "toc_window_display": false
  }
 },
 "nbformat": 4,
 "nbformat_minor": 2
}
